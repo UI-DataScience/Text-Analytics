{
 "cells": [
  {
   "cell_type": "code",
   "execution_count": 1,
   "metadata": {
    "collapsed": true
   },
   "outputs": [],
   "source": [
    "import json\n",
    "import requests"
   ]
  },
  {
   "cell_type": "markdown",
   "metadata": {},
   "source": [
    "The docs: http://developer.nytimes.com/docs/read/article_search_api_v2"
   ]
  },
  {
   "cell_type": "code",
   "execution_count": 9,
   "metadata": {
    "collapsed": true
   },
   "outputs": [],
   "source": [
    "with open(\"NYT.key\") as key:\n",
    "    for line in key:\n",
    "        NYT_KEY = line"
   ]
  },
  {
   "cell_type": "markdown",
   "metadata": {},
   "source": [
    "#### By Section Name"
   ]
  },
  {
   "cell_type": "code",
   "execution_count": 24,
   "metadata": {
    "collapsed": false
   },
   "outputs": [],
   "source": [
    "def get_section(section_name, page, NYT_KEY):\n",
    "    q = 'http://api.nytimes.com/svc/search/v2/articlesearch.json?\\\n",
    "fq=section_name:(\"{0}\")&page={1}&api-key={2}'.format(section_name, page, NYT_KEY)\n",
    "    nyt = requests.get(q)\n",
    "    return(nyt.json())"
   ]
  },
  {
   "cell_type": "code",
   "execution_count": null,
   "metadata": {
    "collapsed": false
   },
   "outputs": [],
   "source": [
    "get_section('Arts',0,NYT_KEY)"
   ]
  },
  {
   "cell_type": "markdown",
   "metadata": {},
   "source": [
    "#### By News Desk"
   ]
  },
  {
   "cell_type": "code",
   "execution_count": 33,
   "metadata": {
    "collapsed": true
   },
   "outputs": [],
   "source": [
    "def get_newsdesk(newsdesk_name, page, NYT_KEY):\n",
    "    q = 'http://api.nytimes.com/svc/search/v2/articlesearch.json?\\\n",
    "fq=news_desk:(\"{0}\")&page={1}&api-key={2}'.format(newsdesk_name, page, NYT_KEY)\n",
    "    nyt = requests.get(q)\n",
    "    return(nyt.json())"
   ]
  },
  {
   "cell_type": "code",
   "execution_count": null,
   "metadata": {
    "collapsed": false
   },
   "outputs": [],
   "source": [
    "get_newsdesk(\"National Desk\", 0, NYT_KEY)"
   ]
  },
  {
   "cell_type": "code",
   "execution_count": null,
   "metadata": {
    "collapsed": true
   },
   "outputs": [],
   "source": []
  }
 ],
 "metadata": {
  "kernelspec": {
   "display_name": "Python 3",
   "language": "python",
   "name": "python3"
  },
  "language_info": {
   "codemirror_mode": {
    "name": "ipython",
    "version": 3
   },
   "file_extension": ".py",
   "mimetype": "text/x-python",
   "name": "python",
   "nbconvert_exporter": "python",
   "pygments_lexer": "ipython3",
   "version": "3.4.3"
  }
 },
 "nbformat": 4,
 "nbformat_minor": 0
}
