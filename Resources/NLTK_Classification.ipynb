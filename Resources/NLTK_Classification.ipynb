{
 "cells": [
  {
   "cell_type": "markdown",
   "metadata": {},
   "source": [
    "## NLTK and the Reuters Data"
   ]
  },
  {
   "cell_type": "code",
   "execution_count": 1,
   "metadata": {
    "collapsed": false
   },
   "outputs": [],
   "source": [
    "#!pip3 install nltk # run once to install"
   ]
  },
  {
   "cell_type": "code",
   "execution_count": 2,
   "metadata": {
    "collapsed": false
   },
   "outputs": [],
   "source": [
    "#nltk.download() # run to install the reuters corpus (or others)"
   ]
  },
  {
   "cell_type": "markdown",
   "metadata": {},
   "source": [
    "#### Importing nltk and the Reuters Corpus"
   ]
  },
  {
   "cell_type": "code",
   "execution_count": 3,
   "metadata": {
    "collapsed": true
   },
   "outputs": [],
   "source": [
    "import nltk\n",
    "from nltk.corpus import reuters"
   ]
  },
  {
   "cell_type": "markdown",
   "metadata": {},
   "source": [
    "> The Reuters Corpus contains 10,788 news documents totaling 1.3 million words. The documents have been classified into 90 topics, and grouped into two sets, called \"training\" and \"test\"; thus, the text with fileid 'test/14826' is a document drawn from the test set. This split is for training and testing algorithms that automatically detect the topic of a document...\n",
    "\n",
    "Source: [nltk book](http://www.nltk.org/book/ch02.html)"
   ]
  },
  {
   "cell_type": "code",
   "execution_count": 4,
   "metadata": {
    "collapsed": false
   },
   "outputs": [
    {
     "data": {
      "text/plain": [
       "['test/14826',\n",
       " 'test/16592',\n",
       " 'test/19440',\n",
       " 'test/21541',\n",
       " 'training/11515',\n",
       " 'training/13203',\n",
       " 'training/2562',\n",
       " 'training/41',\n",
       " 'training/5635',\n",
       " 'training/7196',\n",
       " 'training/8760']"
      ]
     },
     "execution_count": 4,
     "metadata": {},
     "output_type": "execute_result"
    }
   ],
   "source": [
    "reuters.fileids()[0::1000] # these are the file IDs"
   ]
  },
  {
   "cell_type": "markdown",
   "metadata": {},
   "source": [
    "To get the raw text from a file, use the `.raw` method. Other methods can be found with `dir(reuters)`"
   ]
  },
  {
   "cell_type": "code",
   "execution_count": 5,
   "metadata": {
    "collapsed": false
   },
   "outputs": [
    {
     "name": "stdout",
     "output_type": "stream",
     "text": [
      "CHINA DAILY SAYS VERMIN EAT 7-12 PCT GRAIN STOCKS\n",
      "  A survey of 19 provinces and seven cities\n",
      "  showed vermin consume between seven and 12 pct of China's grain\n",
      "  stocks, the China Daily said.\n",
      "      It also said that each year 1.575 mln tonnes, or 25 pct, of\n",
      "  China's fruit output are left to rot, and 2.1 mln tonnes, or up\n",
      "  to 30 pct, of its vegetables. The paper blamed the waste on\n",
      "  inadequate storage and bad preservation methods.\n",
      "      It said the government had launched a national programme to\n",
      "  reduce waste, calling for improved technology in storage and\n",
      "  preservation, and greater production of additives. The paper\n",
      "  gave no further details.\n",
      "  \n",
      "\n",
      "\n"
     ]
    }
   ],
   "source": [
    "print(reuters.raw('test/14828')) # raw text"
   ]
  },
  {
   "cell_type": "code",
   "execution_count": 6,
   "metadata": {
    "collapsed": false
   },
   "outputs": [
    {
     "data": {
      "text/plain": [
       "['CHINA', 'DAILY', 'SAYS', 'VERMIN', 'EAT', '7', '-', ...]"
      ]
     },
     "execution_count": 6,
     "metadata": {},
     "output_type": "execute_result"
    }
   ],
   "source": [
    "reuters.words('test/14828') # the bag of words representation"
   ]
  },
  {
   "cell_type": "code",
   "execution_count": 44,
   "metadata": {
    "collapsed": false
   },
   "outputs": [
    {
     "data": {
      "text/plain": [
       "['acq',\n",
       " 'coffee',\n",
       " 'dfl',\n",
       " 'groundnut',\n",
       " 'iron-steel',\n",
       " 'meal-feed',\n",
       " 'oilseed',\n",
       " 'rand',\n",
       " 'silver',\n",
       " 'sunseed']"
      ]
     },
     "execution_count": 44,
     "metadata": {},
     "output_type": "execute_result"
    }
   ],
   "source": [
    "reuters.categories()[0::9] # example categories"
   ]
  },
  {
   "cell_type": "code",
   "execution_count": 8,
   "metadata": {
    "collapsed": false
   },
   "outputs": [
    {
     "data": {
      "text/plain": [
       "['grain']"
      ]
     },
     "execution_count": 8,
     "metadata": {},
     "output_type": "execute_result"
    }
   ],
   "source": [
    "reuters.categories('test/14828') # the category of this particular document"
   ]
  },
  {
   "cell_type": "markdown",
   "metadata": {},
   "source": [
    "## Example Classification Task"
   ]
  },
  {
   "cell_type": "code",
   "execution_count": 9,
   "metadata": {
    "collapsed": false
   },
   "outputs": [],
   "source": [
    "#!pip3 install sklearn"
   ]
  },
  {
   "cell_type": "code",
   "execution_count": 10,
   "metadata": {
    "collapsed": false
   },
   "outputs": [],
   "source": [
    "from sklearn.feature_extraction.text import TfidfVectorizer\n",
    "import pandas as pd"
   ]
  },
  {
   "cell_type": "markdown",
   "metadata": {},
   "source": [
    "#### Get the Text Files from the Corpus"
   ]
  },
  {
   "cell_type": "code",
   "execution_count": 11,
   "metadata": {
    "collapsed": false
   },
   "outputs": [],
   "source": [
    "def get_files(category):\n",
    "    '''\n",
    "    This function gets the training and \n",
    "    testing file id's for a given category.\n",
    "    \n",
    "    Params\n",
    "    -------\n",
    "    category: the category of documents from NLTK's reuters corpus\n",
    "    For a list of possible categories use `reuters.categories()`\n",
    "    \n",
    "    Returns\n",
    "    -------\n",
    "    A tuple (training, test) which gives the fileids for the\n",
    "    training and testing files for the given category\n",
    "    \n",
    "    '''\n",
    "    \n",
    "    training = [x for x in reuters.fileids(category) if 'training' in x]\n",
    "    test = [x for x in reuters.fileids(category) if 'test' in x]\n",
    "    \n",
    "    return(training, test)"
   ]
  },
  {
   "cell_type": "code",
   "execution_count": 12,
   "metadata": {
    "collapsed": true
   },
   "outputs": [],
   "source": [
    "def get_dfs(categories):\n",
    "    '''\n",
    "    This function gets the training and \n",
    "    testing file df for classification\n",
    "\n",
    "    \n",
    "    Params\n",
    "    -------\n",
    "    categories: a two-element list of the categories\n",
    "    \n",
    "    Returns\n",
    "    -------\n",
    "    A tuple (train, test) of dfs\n",
    "    \n",
    "    '''\n",
    "    \n",
    "    train=pd.DataFrame()\n",
    "    test=pd.DataFrame()\n",
    "    \n",
    "    for cat in categories:\n",
    "        id_tuple = get_files(cat)\n",
    "        label = cat\n",
    "        text_train = [reuters.raw(f) for f in id_tuple[0]]\n",
    "        text_test = [reuters.raw(f) for f in id_tuple[1]]\n",
    "        tr = pd.DataFrame({'Label':label, 'Text':text_train})\n",
    "        te = pd.DataFrame({'Label':label, 'Text':text_test})\n",
    "        \n",
    "        train=pd.concat([train,tr])\n",
    "        test=pd.concat([test,te])\n",
    "        \n",
    "    \n",
    "    return train, test"
   ]
  },
  {
   "cell_type": "code",
   "execution_count": 45,
   "metadata": {
    "collapsed": false
   },
   "outputs": [],
   "source": [
    "train, test = get_dfs(['grain', 'crude', 'coffee'])"
   ]
  },
  {
   "cell_type": "markdown",
   "metadata": {},
   "source": [
    "#### Get the TF-IDF Vectors\n",
    "\n",
    "This is the real \"meat\" of what's going on, and while it's only 4 lines of code they are a very important 4 lines and you shouldn't just gloss over them. This is a very oversimplified version of a typical model build. Usually we'd need to trim stop words out, use n-grams (not just words), and tune the parameters of TFIDF. Much of this can be handled by the [TfidfVectorizer()](http://scikit-learn.org/stable/modules/generated/sklearn.feature_extraction.text.TfidfVectorizer.html) function. It has a lot of parameters, and it will take a while getting comfortable with all of them. Note that TF-IDF is only one way to vectorize textual documents. It has a really intuitive interpretation, but some people don't like it.\n",
    "\n",
    "Try playing with the parameters to see how it affects the classification as in [this](https://github.com/UI-DataScience/info490-sp16/blob/master/Week7/notebooks/intro2tc.ipynb) notebook."
   ]
  },
  {
   "cell_type": "code",
   "execution_count": 46,
   "metadata": {
    "collapsed": false
   },
   "outputs": [],
   "source": [
    "vectorizer = TfidfVectorizer()\n",
    "X_train = vectorizer.fit_transform(train.Text)\n",
    "X_test = vectorizer.transform(test.Text)\n",
    "y_train = train.Label\n",
    "y_test = test.Label"
   ]
  },
  {
   "cell_type": "markdown",
   "metadata": {},
   "source": [
    "#### Train the Classifier\n",
    "\n",
    "I'm going to use a random forest since it is plug-and-play and probably familiar to many of you, but a lot of people prefer cosine similarity."
   ]
  },
  {
   "cell_type": "code",
   "execution_count": 47,
   "metadata": {
    "collapsed": true
   },
   "outputs": [],
   "source": [
    "from sklearn.ensemble import RandomForestClassifier"
   ]
  },
  {
   "cell_type": "code",
   "execution_count": 48,
   "metadata": {
    "collapsed": true
   },
   "outputs": [],
   "source": [
    "feature_names = vectorizer.get_feature_names() # will be useful later\n",
    "\n",
    "forest = RandomForestClassifier(n_estimators = 100) # make the random forest object\n",
    "\n",
    "# Fit the training data \n",
    "fit = forest.fit(X_train,y_train)\n",
    "\n",
    "# Take the same forest and run it on the test data\n",
    "output = fit.predict(X_test)"
   ]
  },
  {
   "cell_type": "markdown",
   "metadata": {},
   "source": [
    "#### Inspect the Results"
   ]
  },
  {
   "cell_type": "code",
   "execution_count": 49,
   "metadata": {
    "collapsed": false
   },
   "outputs": [],
   "source": [
    "from sklearn.metrics import classification_report, confusion_matrix"
   ]
  },
  {
   "cell_type": "code",
   "execution_count": 50,
   "metadata": {
    "collapsed": false
   },
   "outputs": [
    {
     "data": {
      "text/plain": [
       "array([[ 19,   0,   0],\n",
       "       [  4, 188,   1],\n",
       "       [  5,   1, 148]])"
      ]
     },
     "execution_count": 50,
     "metadata": {},
     "output_type": "execute_result"
    }
   ],
   "source": [
    "confusion_matrix(output, y_test)"
   ]
  },
  {
   "cell_type": "code",
   "execution_count": 51,
   "metadata": {
    "collapsed": false
   },
   "outputs": [
    {
     "name": "stdout",
     "output_type": "stream",
     "text": [
      "             precision    recall  f1-score   support\n",
      "\n",
      "     coffee       0.68      1.00      0.81        19\n",
      "      crude       0.99      0.97      0.98       193\n",
      "      grain       0.99      0.96      0.98       154\n",
      "\n",
      "avg / total       0.98      0.97      0.97       366\n",
      "\n"
     ]
    }
   ],
   "source": [
    "print(classification_report(output, y_test))"
   ]
  },
  {
   "cell_type": "code",
   "execution_count": 52,
   "metadata": {
    "collapsed": false
   },
   "outputs": [
    {
     "data": {
      "text/html": [
       "<div>\n",
       "<table border=\"1\" class=\"dataframe\">\n",
       "  <thead>\n",
       "    <tr style=\"text-align: right;\">\n",
       "      <th></th>\n",
       "      <th>Label</th>\n",
       "      <th>Text</th>\n",
       "      <th>Prediction</th>\n",
       "    </tr>\n",
       "  </thead>\n",
       "  <tbody>\n",
       "    <tr>\n",
       "      <th>123</th>\n",
       "      <td>grain</td>\n",
       "      <td>PAKISTAN UNVEILS NEW TRADE POLICY TO BOOST EXP...</td>\n",
       "      <td>crude</td>\n",
       "    </tr>\n",
       "    <tr>\n",
       "      <th>34</th>\n",
       "      <td>crude</td>\n",
       "      <td>1-JUN-1987 11:14:25.82\\n   1-JUN-1987 11:14:2...</td>\n",
       "      <td>grain</td>\n",
       "    </tr>\n",
       "    <tr>\n",
       "      <th>0</th>\n",
       "      <td>coffee</td>\n",
       "      <td>INDONESIAN COMMODITY EXCHANGE MAY EXPAND\\n  Th...</td>\n",
       "      <td>crude</td>\n",
       "    </tr>\n",
       "    <tr>\n",
       "      <th>1</th>\n",
       "      <td>coffee</td>\n",
       "      <td>COLOMBIA BUSINESS ASKED TO DIVERSIFY FROM COFF...</td>\n",
       "      <td>crude</td>\n",
       "    </tr>\n",
       "    <tr>\n",
       "      <th>8</th>\n",
       "      <td>coffee</td>\n",
       "      <td>UGANDA PULLS OUT OF COFFEE MARKET - TRADE SOUR...</td>\n",
       "      <td>grain</td>\n",
       "    </tr>\n",
       "    <tr>\n",
       "      <th>12</th>\n",
       "      <td>coffee</td>\n",
       "      <td>FRENCH AID TO TOGO TO HELP COFFEE, COCOA TREES...</td>\n",
       "      <td>grain</td>\n",
       "    </tr>\n",
       "    <tr>\n",
       "      <th>20</th>\n",
       "      <td>coffee</td>\n",
       "      <td>IVORY COAST WEATHER NO PROBLEM FOR 1986/87 CRO...</td>\n",
       "      <td>grain</td>\n",
       "    </tr>\n",
       "    <tr>\n",
       "      <th>21</th>\n",
       "      <td>coffee</td>\n",
       "      <td>INDIA RELAXES RULES FOR EXPORT PROMOTION\\n  Th...</td>\n",
       "      <td>crude</td>\n",
       "    </tr>\n",
       "    <tr>\n",
       "      <th>23</th>\n",
       "      <td>coffee</td>\n",
       "      <td>U.S. COFFEE IMPORT REPORTING SYSTEM QUESTIONED...</td>\n",
       "      <td>crude</td>\n",
       "    </tr>\n",
       "    <tr>\n",
       "      <th>26</th>\n",
       "      <td>coffee</td>\n",
       "      <td>COLOMBIA OPENS COFFEE REGISTRATIONS - LDN TRAD...</td>\n",
       "      <td>grain</td>\n",
       "    </tr>\n",
       "    <tr>\n",
       "      <th>27</th>\n",
       "      <td>coffee</td>\n",
       "      <td>UGANDA PLANS TO EXPORT ROASTED COFFEE TO EUROP...</td>\n",
       "      <td>grain</td>\n",
       "    </tr>\n",
       "  </tbody>\n",
       "</table>\n",
       "</div>"
      ],
      "text/plain": [
       "      Label                                               Text Prediction\n",
       "123   grain  PAKISTAN UNVEILS NEW TRADE POLICY TO BOOST EXP...      crude\n",
       "34    crude   1-JUN-1987 11:14:25.82\\n   1-JUN-1987 11:14:2...      grain\n",
       "0    coffee  INDONESIAN COMMODITY EXCHANGE MAY EXPAND\\n  Th...      crude\n",
       "1    coffee  COLOMBIA BUSINESS ASKED TO DIVERSIFY FROM COFF...      crude\n",
       "8    coffee  UGANDA PULLS OUT OF COFFEE MARKET - TRADE SOUR...      grain\n",
       "12   coffee  FRENCH AID TO TOGO TO HELP COFFEE, COCOA TREES...      grain\n",
       "20   coffee  IVORY COAST WEATHER NO PROBLEM FOR 1986/87 CRO...      grain\n",
       "21   coffee  INDIA RELAXES RULES FOR EXPORT PROMOTION\\n  Th...      crude\n",
       "23   coffee  U.S. COFFEE IMPORT REPORTING SYSTEM QUESTIONED...      crude\n",
       "26   coffee  COLOMBIA OPENS COFFEE REGISTRATIONS - LDN TRAD...      grain\n",
       "27   coffee  UGANDA PLANS TO EXPORT ROASTED COFFEE TO EUROP...      grain"
      ]
     },
     "execution_count": 52,
     "metadata": {},
     "output_type": "execute_result"
    }
   ],
   "source": [
    "test['Prediction'] = output\n",
    "test[test.Label != test.Prediction] # these are the ones we got wrong"
   ]
  },
  {
   "cell_type": "markdown",
   "metadata": {},
   "source": [
    "This performed pretty well but we missed a lot of the true coffee documents. Why might this be? \n",
    "\n",
    "Some things I didn't check, that you should:\n",
    "\n",
    "* How many documents were used to train, how many to test (since we didn't split the data ourselves)\n",
    "* How *imbalanced* were the classes? I.e. if we had way more crude articles than grain, what was our sensitivity/specificity\n",
    "* Is TF-IDF appropriate for this data? Would the model have performed better without the IDF weights?\n",
    "* Others"
   ]
  },
  {
   "cell_type": "markdown",
   "metadata": {},
   "source": [
    "#### Feature Importances\n",
    "\n",
    "My favorite part of doing text analysis with tree algorithms is the feature importances. You can actually see which words were indicative of an article being from one class or the other, and how much your model would have suffered had we not included those words in the analysis. It makes for an awesome visualization when presenting your results to non-technical audiences, because the interpretation is very straightforward."
   ]
  },
  {
   "cell_type": "code",
   "execution_count": 53,
   "metadata": {
    "collapsed": true
   },
   "outputs": [],
   "source": [
    "%matplotlib inline"
   ]
  },
  {
   "cell_type": "code",
   "execution_count": 54,
   "metadata": {
    "collapsed": false
   },
   "outputs": [
    {
     "name": "stderr",
     "output_type": "stream",
     "text": [
      "/usr/local/lib/python3.4/dist-packages/ipykernel/__main__.py:3: FutureWarning: sort(columns=....) is deprecated, use sort_values(by=.....)\n",
      "  app.launch_new_instance()\n"
     ]
    },
    {
     "data": {
      "text/html": [
       "<div>\n",
       "<table border=\"1\" class=\"dataframe\">\n",
       "  <thead>\n",
       "    <tr style=\"text-align: right;\">\n",
       "      <th></th>\n",
       "      <th>Feature</th>\n",
       "      <th>Importance</th>\n",
       "    </tr>\n",
       "  </thead>\n",
       "  <tbody>\n",
       "    <tr>\n",
       "      <th>6490</th>\n",
       "      <td>oil</td>\n",
       "      <td>0.054349</td>\n",
       "    </tr>\n",
       "    <tr>\n",
       "      <th>2331</th>\n",
       "      <td>coffee</td>\n",
       "      <td>0.028949</td>\n",
       "    </tr>\n",
       "    <tr>\n",
       "      <th>4422</th>\n",
       "      <td>grain</td>\n",
       "      <td>0.025167</td>\n",
       "    </tr>\n",
       "    <tr>\n",
       "      <th>10017</th>\n",
       "      <td>wheat</td>\n",
       "      <td>0.022757</td>\n",
       "    </tr>\n",
       "    <tr>\n",
       "      <th>2772</th>\n",
       "      <td>crude</td>\n",
       "      <td>0.020405</td>\n",
       "    </tr>\n",
       "    <tr>\n",
       "      <th>1584</th>\n",
       "      <td>barrels</td>\n",
       "      <td>0.019958</td>\n",
       "    </tr>\n",
       "    <tr>\n",
       "      <th>9412</th>\n",
       "      <td>tonnes</td>\n",
       "      <td>0.018249</td>\n",
       "    </tr>\n",
       "    <tr>\n",
       "      <th>1052</th>\n",
       "      <td>agriculture</td>\n",
       "      <td>0.013805</td>\n",
       "    </tr>\n",
       "    <tr>\n",
       "      <th>6912</th>\n",
       "      <td>petroleum</td>\n",
       "      <td>0.012670</td>\n",
       "    </tr>\n",
       "    <tr>\n",
       "      <th>2657</th>\n",
       "      <td>corn</td>\n",
       "      <td>0.012451</td>\n",
       "    </tr>\n",
       "  </tbody>\n",
       "</table>\n",
       "</div>"
      ],
      "text/plain": [
       "           Feature  Importance\n",
       "6490           oil    0.054349\n",
       "2331        coffee    0.028949\n",
       "4422         grain    0.025167\n",
       "10017        wheat    0.022757\n",
       "2772         crude    0.020405\n",
       "1584       barrels    0.019958\n",
       "9412        tonnes    0.018249\n",
       "1052   agriculture    0.013805\n",
       "6912     petroleum    0.012670\n",
       "2657          corn    0.012451"
      ]
     },
     "execution_count": 54,
     "metadata": {},
     "output_type": "execute_result"
    }
   ],
   "source": [
    "importances = fit.feature_importances_\n",
    "imp_df = pd.DataFrame({'Feature':feature_names, 'Importance':importances})\n",
    "imp_df = imp_df.sort('Importance', ascending=False).head(10)\n",
    "imp_df"
   ]
  },
  {
   "cell_type": "code",
   "execution_count": 55,
   "metadata": {
    "collapsed": false
   },
   "outputs": [
    {
     "data": {
      "text/plain": [
       "<matplotlib.axes.AxesSubplot at 0x7fc6374c4c18>"
      ]
     },
     "execution_count": 55,
     "metadata": {},
     "output_type": "execute_result"
    },
    {
     "data": {
      "image/png": "[encoded data removed]",
      "text/plain": [
       "<matplotlib.figure.Figure at 0x7fc632ba95c0>"
      ]
     },
     "metadata": {},
     "output_type": "display_data"
    }
   ],
   "source": [
    "imp_df.plot(kind='bar', \n",
    "            x='Feature', \n",
    "            figsize=(10,6),\n",
    "            fontsize=18)"
   ]
  },
  {
   "cell_type": "code",
   "execution_count": null,
   "metadata": {
    "collapsed": true
   },
   "outputs": [],
   "source": []
  }
 ],
 "metadata": {
  "kernelspec": {
   "display_name": "Python 3",
   "language": "python",
   "name": "python3"
  },
  "language_info": {
   "codemirror_mode": {
    "name": "ipython",
    "version": 3
   },
   "file_extension": ".py",
   "mimetype": "text/x-python",
   "name": "python",
   "nbconvert_exporter": "python",
   "pygments_lexer": "ipython3",
   "version": "3.4.3"
  }
 },
 "nbformat": 4,
 "nbformat_minor": 0
}
