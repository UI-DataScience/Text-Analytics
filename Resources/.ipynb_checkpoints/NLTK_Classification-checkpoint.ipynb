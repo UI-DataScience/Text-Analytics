{
 "cells": [
  {
   "cell_type": "markdown",
   "metadata": {},
   "source": [
    "## NLTK and the Reuters Data"
   ]
  },
  {
   "cell_type": "code",
   "execution_count": 1,
   "metadata": {
    "collapsed": false
   },
   "outputs": [],
   "source": [
    "#!pip3 install nltk # run once to install"
   ]
  },
  {
   "cell_type": "code",
   "execution_count": 2,
   "metadata": {
    "collapsed": false
   },
   "outputs": [],
   "source": [
    "#nltk.download() # run to install the reuters corpus (or others)"
   ]
  },
  {
   "cell_type": "markdown",
   "metadata": {},
   "source": [
    "#### Importing nltk and the Reuters Corpus"
   ]
  },
  {
   "cell_type": "code",
   "execution_count": 3,
   "metadata": {
    "collapsed": true
   },
   "outputs": [],
   "source": [
    "import nltk\n",
    "from nltk.corpus import reuters"
   ]
  },
  {
   "cell_type": "markdown",
   "metadata": {},
   "source": [
    "> The Reuters Corpus contains 10,788 news documents totaling 1.3 million words. The documents have been classified into 90 topics, and grouped into two sets, called \"training\" and \"test\"; thus, the text with fileid 'test/14826' is a document drawn from the test set. This split is for training and testing algorithms that automatically detect the topic of a document...\n",
    "\n",
    "Source: [nltk book](http://www.nltk.org/book/ch02.html)"
   ]
  },
  {
   "cell_type": "code",
   "execution_count": 4,
   "metadata": {
    "collapsed": false
   },
   "outputs": [
    {
     "data": {
      "text/plain": [
       "['test/14826',\n",
       " 'test/16592',\n",
       " 'test/19440',\n",
       " 'test/21541',\n",
       " 'training/11515',\n",
       " 'training/13203',\n",
       " 'training/2562',\n",
       " 'training/41',\n",
       " 'training/5635',\n",
       " 'training/7196',\n",
       " 'training/8760']"
      ]
     },
     "execution_count": 4,
     "metadata": {},
     "output_type": "execute_result"
    }
   ],
   "source": [
    "reuters.fileids()[0::1000] # these are the file IDs"
   ]
  },
  {
   "cell_type": "markdown",
   "metadata": {},
   "source": [
    "To get the raw text from a file, use the `.raw` method. Other methods can be found with `dir(reuters)`"
   ]
  },
  {
   "cell_type": "code",
   "execution_count": 5,
   "metadata": {
    "collapsed": false
   },
   "outputs": [
    {
     "name": "stdout",
     "output_type": "stream",
     "text": [
      "CHINA DAILY SAYS VERMIN EAT 7-12 PCT GRAIN STOCKS\n",
      "  A survey of 19 provinces and seven cities\n",
      "  showed vermin consume between seven and 12 pct of China's grain\n",
      "  stocks, the China Daily said.\n",
      "      It also said that each year 1.575 mln tonnes, or 25 pct, of\n",
      "  China's fruit output are left to rot, and 2.1 mln tonnes, or up\n",
      "  to 30 pct, of its vegetables. The paper blamed the waste on\n",
      "  inadequate storage and bad preservation methods.\n",
      "      It said the government had launched a national programme to\n",
      "  reduce waste, calling for improved technology in storage and\n",
      "  preservation, and greater production of additives. The paper\n",
      "  gave no further details.\n",
      "  \n",
      "\n",
      "\n"
     ]
    }
   ],
   "source": [
    "print(reuters.raw('test/14828')) # raw text"
   ]
  },
  {
   "cell_type": "code",
   "execution_count": 6,
   "metadata": {
    "collapsed": false
   },
   "outputs": [
    {
     "data": {
      "text/plain": [
       "['CHINA', 'DAILY', 'SAYS', 'VERMIN', 'EAT', '7', '-', ...]"
      ]
     },
     "execution_count": 6,
     "metadata": {},
     "output_type": "execute_result"
    }
   ],
   "source": [
    "reuters.words('test/14828') # the bag of words representation"
   ]
  },
  {
   "cell_type": "code",
   "execution_count": 7,
   "metadata": {
    "collapsed": false
   },
   "outputs": [
    {
     "data": {
      "text/plain": [
       "['acq', 'copper', 'dmk', 'hog', 'lead', 'nickel', 'platinum', 'rye', 'sun-oil']"
      ]
     },
     "execution_count": 7,
     "metadata": {},
     "output_type": "execute_result"
    }
   ],
   "source": [
    "reuters.categories()[0::10] # example categories"
   ]
  },
  {
   "cell_type": "code",
   "execution_count": 8,
   "metadata": {
    "collapsed": false
   },
   "outputs": [
    {
     "data": {
      "text/plain": [
       "['grain']"
      ]
     },
     "execution_count": 8,
     "metadata": {},
     "output_type": "execute_result"
    }
   ],
   "source": [
    "reuters.categories('test/14828') # the category of this particular document"
   ]
  },
  {
   "cell_type": "markdown",
   "metadata": {},
   "source": [
    "## Example Classification Task"
   ]
  },
  {
   "cell_type": "code",
   "execution_count": 9,
   "metadata": {
    "collapsed": false
   },
   "outputs": [],
   "source": [
    "#!pip3 install sklearn"
   ]
  },
  {
   "cell_type": "code",
   "execution_count": 10,
   "metadata": {
    "collapsed": false
   },
   "outputs": [],
   "source": [
    "from sklearn.feature_extraction.text import TfidfVectorizer\n",
    "import pandas as pd"
   ]
  },
  {
   "cell_type": "markdown",
   "metadata": {},
   "source": [
    "#### Get the Text Files from the Corpus"
   ]
  },
  {
   "cell_type": "code",
   "execution_count": 13,
   "metadata": {
    "collapsed": false
   },
   "outputs": [],
   "source": [
    "def get_files(category):\n",
    "    '''\n",
    "    This function gets the training and \n",
    "    testing file id's for a given category.\n",
    "    \n",
    "    Params\n",
    "    -------\n",
    "    category: the category of documents from NLTK's reuters corpus\n",
    "    For a list of possible categories use `reuters.categories()`\n",
    "    \n",
    "    Returns\n",
    "    -------\n",
    "    A tuple (training, test) which gives the fileids for the\n",
    "    training and testing files for the given category\n",
    "    \n",
    "    '''\n",
    "    \n",
    "    training = [x for x in reuters.fileids(category) if 'training' in x]\n",
    "    test = [x for x in reuters.fileids(category) if 'test' in x]\n",
    "    \n",
    "    return(training, test)"
   ]
  },
  {
   "cell_type": "code",
   "execution_count": 14,
   "metadata": {
    "collapsed": true
   },
   "outputs": [],
   "source": [
    "def get_dfs(categories):\n",
    "    '''\n",
    "    This function gets the training and \n",
    "    testing file df for a binary classification.\n",
    "    \n",
    "    Note that it wouldn't be difficult to extend\n",
    "    this to more than two categories, but keeping\n",
    "    the code simple for this demonstration was \n",
    "    a high priority.\n",
    "    \n",
    "    Params\n",
    "    -------\n",
    "    categories: a two-element list of the categories\n",
    "    \n",
    "    Returns\n",
    "    -------\n",
    "    A tuple (train, test) of dfs\n",
    "    \n",
    "    '''\n",
    "    \n",
    "    id_tuple_1 = get_files(categories[0])\n",
    "    id_tuple_2 = get_files(categories[1])\n",
    "    \n",
    "    cat1_train = pd.DataFrame({'Label':categories[0], 'Text':[reuters.raw(f) for f in id_tuple_1[0]]})\n",
    "    cat2_train=pd.DataFrame({'Label':categories[1], 'Text':[reuters.raw(f) for f in id_tuple_2[0]]})\n",
    "    train = pd.concat([cat1_train, cat2_train])\n",
    "\n",
    "    cat1_test = pd.DataFrame({'Label':categories[0], 'Text':[reuters.raw(f) for f in id_tuple_1[1]]})\n",
    "    cat2_test=pd.DataFrame({'Label':categories[1], 'Text':[reuters.raw(f) for f in id_tuple_2[1]]})\n",
    "    test = pd.concat([cat1_test, cat2_test])\n",
    "    \n",
    "    return train, test\n",
    "    "
   ]
  },
  {
   "cell_type": "code",
   "execution_count": 15,
   "metadata": {
    "collapsed": true
   },
   "outputs": [],
   "source": [
    "def get_dfs(categories):\n",
    "    '''\n",
    "    This function gets the training and \n",
    "    testing file df for classification\n",
    "\n",
    "    \n",
    "    Params\n",
    "    -------\n",
    "    categories: a two-element list of the categories\n",
    "    \n",
    "    Returns\n",
    "    -------\n",
    "    A tuple (train, test) of dfs\n",
    "    \n",
    "    '''\n",
    "    \n",
    "    train=pd.DataFrame()\n",
    "    test=pd.DataFrame()\n",
    "    \n",
    "    for cat in categories:\n",
    "        id_tuple = get_files(cat)\n",
    "        label = cat\n",
    "        text_train = [reuters.raw(f) for f in id_tuple[0]]\n",
    "        text_test = [reuters.raw(f) for f in id_tuple[1]]\n",
    "        tr = pd.DataFrame({'Label':label, 'Text':text_train})\n",
    "        te = pd.DataFrame({'Label':label, 'Text':text_test})\n",
    "        \n",
    "        train=pd.concat([train,tr])\n",
    "        test=pd.concat([test,te])\n",
    "        \n",
    "    \n",
    "    return train, test"
   ]
  },
  {
   "cell_type": "code",
   "execution_count": 16,
   "metadata": {
    "collapsed": false
   },
   "outputs": [],
   "source": [
    "train, test = get_dfs(['grain', 'crude'])"
   ]
  },
  {
   "cell_type": "markdown",
   "metadata": {},
   "source": [
    "#### Get the TF-IDF Vectors\n",
    "\n",
    "This is the real \"meat\" of what's going on, and while it's only 4 lines of code they are a very important 4 lines and you shouldn't just gloss over them. This is a very oversimplified version of a typical model build. Usually we'd need to trim stop words out, use n-grams (not just words), and tune the parameters of TFIDF. Much of this can be handled by the [TfidfVectorizer()](http://scikit-learn.org/stable/modules/generated/sklearn.feature_extraction.text.TfidfVectorizer.html) function. It has a lot of parameters, and it will take a while getting comfortable with all of them. Note that TF-IDF is only one way to vectorize textual documents. It has a really intuitive interpretation, but some people don't like it."
   ]
  },
  {
   "cell_type": "code",
   "execution_count": 17,
   "metadata": {
    "collapsed": false
   },
   "outputs": [],
   "source": [
    "vectorizer = TfidfVectorizer()\n",
    "X_train = vectorizer.fit_transform(train.Text)\n",
    "X_test = vectorizer.transform(test.Text)\n",
    "y_train = train.Label\n",
    "y_test = test.Label"
   ]
  },
  {
   "cell_type": "markdown",
   "metadata": {},
   "source": [
    "#### Train the Classifier\n",
    "\n",
    "I'm going to use a random forest since it is plug-and-play and probably familiar to many of you, but a lot of people prefer cosine similarity."
   ]
  },
  {
   "cell_type": "code",
   "execution_count": 15,
   "metadata": {
    "collapsed": true
   },
   "outputs": [],
   "source": [
    "from sklearn.ensemble import RandomForestClassifier"
   ]
  },
  {
   "cell_type": "code",
   "execution_count": 16,
   "metadata": {
    "collapsed": true
   },
   "outputs": [],
   "source": [
    "feature_names = vectorizer.get_feature_names() # will be useful later\n",
    "\n",
    "forest = RandomForestClassifier(n_estimators = 100) # make the random forest object\n",
    "\n",
    "# Fit the training data \n",
    "fit = forest.fit(X_train,y_train)\n",
    "\n",
    "# Take the same forest and run it on the test data\n",
    "output = fit.predict(X_test)"
   ]
  },
  {
   "cell_type": "markdown",
   "metadata": {},
   "source": [
    "#### Inspect the Results"
   ]
  },
  {
   "cell_type": "code",
   "execution_count": 25,
   "metadata": {
    "collapsed": false
   },
   "outputs": [],
   "source": [
    "from sklearn.metrics import classification_report, confusion_matrix"
   ]
  },
  {
   "cell_type": "code",
   "execution_count": 26,
   "metadata": {
    "collapsed": false
   },
   "outputs": [
    {
     "data": {
      "text/plain": [
       "array([[188,   2],\n",
       "       [  1, 147]])"
      ]
     },
     "execution_count": 26,
     "metadata": {},
     "output_type": "execute_result"
    }
   ],
   "source": [
    "confusion_matrix(output, y_test)"
   ]
  },
  {
   "cell_type": "code",
   "execution_count": 24,
   "metadata": {
    "collapsed": false
   },
   "outputs": [
    {
     "name": "stdout",
     "output_type": "stream",
     "text": [
      "             precision    recall  f1-score   support\n",
      "\n",
      "      crude       0.99      0.99      0.99       190\n",
      "      grain       0.99      0.99      0.99       148\n",
      "\n",
      "avg / total       0.99      0.99      0.99       338\n",
      "\n"
     ]
    }
   ],
   "source": [
    "print(classification_report(output, y_test))"
   ]
  },
  {
   "cell_type": "code",
   "execution_count": 45,
   "metadata": {
    "collapsed": false
   },
   "outputs": [
    {
     "data": {
      "text/html": [
       "<div>\n",
       "<table border=\"1\" class=\"dataframe\">\n",
       "  <thead>\n",
       "    <tr style=\"text-align: right;\">\n",
       "      <th></th>\n",
       "      <th>Label</th>\n",
       "      <th>Text</th>\n",
       "      <th>Prediction</th>\n",
       "    </tr>\n",
       "  </thead>\n",
       "  <tbody>\n",
       "    <tr>\n",
       "      <th>86</th>\n",
       "      <td>grain</td>\n",
       "      <td>ZAMBIA CUTS PRICES AS TROOPS PATROL COPPERBELT...</td>\n",
       "      <td>crude</td>\n",
       "    </tr>\n",
       "    <tr>\n",
       "      <th>123</th>\n",
       "      <td>grain</td>\n",
       "      <td>PAKISTAN UNVEILS NEW TRADE POLICY TO BOOST EXP...</td>\n",
       "      <td>crude</td>\n",
       "    </tr>\n",
       "    <tr>\n",
       "      <th>34</th>\n",
       "      <td>crude</td>\n",
       "      <td>1-JUN-1987 11:14:25.82\\n   1-JUN-1987 11:14:2...</td>\n",
       "      <td>grain</td>\n",
       "    </tr>\n",
       "  </tbody>\n",
       "</table>\n",
       "</div>"
      ],
      "text/plain": [
       "     Label                                               Text Prediction\n",
       "86   grain  ZAMBIA CUTS PRICES AS TROOPS PATROL COPPERBELT...      crude\n",
       "123  grain  PAKISTAN UNVEILS NEW TRADE POLICY TO BOOST EXP...      crude\n",
       "34   crude   1-JUN-1987 11:14:25.82\\n   1-JUN-1987 11:14:2...      grain"
      ]
     },
     "execution_count": 45,
     "metadata": {},
     "output_type": "execute_result"
    }
   ],
   "source": [
    "test['Prediction'] = output\n",
    "test[test.Label != test.Prediction] # these are the ones we got wrong"
   ]
  },
  {
   "cell_type": "markdown",
   "metadata": {},
   "source": [
    "This performed so well I'd almost be cautious as to how they split up their data, or that somewhere in this model build we've mixed testing data in with the training data. This is one reason, among others, that the \"gold standard\" is to have 3-4 datasets: The usual training and test, but then a \"holdout\" set that never gets used to tune parameters, as well as an \"out of time\" set that was collected over or represents a different time period than the training and test sets.\n",
    "\n",
    "Some things I didn't check, that you should:\n",
    "\n",
    "* How many documents were used to train, how many to test (since we didn't split the data ourselves)\n",
    "* How *imbalanced* were the classes? I.e. if we had way more crude articles than grain, what was our sensitivity/specificity\n",
    "* Is TF-IDF appropriate for this data? Would the model have performed better without the IDF weights?\n",
    "* Others"
   ]
  },
  {
   "cell_type": "markdown",
   "metadata": {},
   "source": [
    "#### Feature Importances\n",
    "\n",
    "My favorite part of doing text analysis with tree algorithms is the feature importances. You can actually see which words were indicative of an article being from one class or the other, and how much your model would have suffered had we not included those words in the analysis. It makes for an awesome visualization when presenting your results to non-technical audiences, because the interpretation is very straightforward."
   ]
  },
  {
   "cell_type": "code",
   "execution_count": 58,
   "metadata": {
    "collapsed": true
   },
   "outputs": [],
   "source": [
    "%matplotlib inline"
   ]
  },
  {
   "cell_type": "code",
   "execution_count": 81,
   "metadata": {
    "collapsed": false
   },
   "outputs": [
    {
     "name": "stderr",
     "output_type": "stream",
     "text": [
      "/usr/local/lib/python3.4/dist-packages/ipykernel/__main__.py:3: FutureWarning: sort(columns=....) is deprecated, use sort_values(by=.....)\n",
      "  app.launch_new_instance()\n"
     ]
    },
    {
     "data": {
      "text/html": [
       "<div>\n",
       "<table border=\"1\" class=\"dataframe\">\n",
       "  <thead>\n",
       "    <tr style=\"text-align: right;\">\n",
       "      <th></th>\n",
       "      <th>Feature</th>\n",
       "      <th>Importance</th>\n",
       "    </tr>\n",
       "  </thead>\n",
       "  <tbody>\n",
       "    <tr>\n",
       "      <th>6061</th>\n",
       "      <td>oil</td>\n",
       "      <td>0.061914</td>\n",
       "    </tr>\n",
       "    <tr>\n",
       "      <th>8784</th>\n",
       "      <td>tonnes</td>\n",
       "      <td>0.037501</td>\n",
       "    </tr>\n",
       "    <tr>\n",
       "      <th>9340</th>\n",
       "      <td>wheat</td>\n",
       "      <td>0.034446</td>\n",
       "    </tr>\n",
       "    <tr>\n",
       "      <th>2584</th>\n",
       "      <td>crude</td>\n",
       "      <td>0.027971</td>\n",
       "    </tr>\n",
       "    <tr>\n",
       "      <th>4125</th>\n",
       "      <td>grain</td>\n",
       "      <td>0.021488</td>\n",
       "    </tr>\n",
       "    <tr>\n",
       "      <th>973</th>\n",
       "      <td>agriculture</td>\n",
       "      <td>0.020103</td>\n",
       "    </tr>\n",
       "    <tr>\n",
       "      <th>9101</th>\n",
       "      <td>usda</td>\n",
       "      <td>0.014255</td>\n",
       "    </tr>\n",
       "    <tr>\n",
       "      <th>6455</th>\n",
       "      <td>petroleum</td>\n",
       "      <td>0.013151</td>\n",
       "    </tr>\n",
       "    <tr>\n",
       "      <th>5335</th>\n",
       "      <td>lt</td>\n",
       "      <td>0.012322</td>\n",
       "    </tr>\n",
       "    <tr>\n",
       "      <th>1480</th>\n",
       "      <td>barrels</td>\n",
       "      <td>0.011449</td>\n",
       "    </tr>\n",
       "  </tbody>\n",
       "</table>\n",
       "</div>"
      ],
      "text/plain": [
       "          Feature  Importance\n",
       "6061          oil    0.061914\n",
       "8784       tonnes    0.037501\n",
       "9340        wheat    0.034446\n",
       "2584        crude    0.027971\n",
       "4125        grain    0.021488\n",
       "973   agriculture    0.020103\n",
       "9101         usda    0.014255\n",
       "6455    petroleum    0.013151\n",
       "5335           lt    0.012322\n",
       "1480      barrels    0.011449"
      ]
     },
     "execution_count": 81,
     "metadata": {},
     "output_type": "execute_result"
    }
   ],
   "source": [
    "importances = fit.feature_importances_\n",
    "imp_df = pd.DataFrame({'Feature':feature_names, 'Importance':importances})\n",
    "imp_df = imp_df.sort('Importance', ascending=False).head(10)\n",
    "imp_df"
   ]
  },
  {
   "cell_type": "code",
   "execution_count": 82,
   "metadata": {
    "collapsed": false
   },
   "outputs": [
    {
     "data": {
      "text/plain": [
       "<matplotlib.axes.AxesSubplot at 0x7f7da3954b00>"
      ]
     },
     "execution_count": 82,
     "metadata": {},
     "output_type": "execute_result"
    },
    {
     "data": {
      "image/png": "[encoded data removed]",
      "text/plain": [
       "<matplotlib.figure.Figure at 0x7f7da3b9fe80>"
      ]
     },
     "metadata": {},
     "output_type": "display_data"
    }
   ],
   "source": [
    "imp_df.plot(kind='bar', \n",
    "            x='Feature', \n",
    "            figsize=(10,6),\n",
    "            fontsize=18)"
   ]
  },
  {
   "cell_type": "markdown",
   "metadata": {},
   "source": [
    "## Other Data Sources\n",
    "\n",
    "First, a note about pulling data into Nebula. You may find yourself running your notebooks inside of your local instance of the Text Analytics repository. If you run a command like `wget`, it will by default deposit the downloaded material in the same directory in which you are running the notebook. Please be careful of the following:\n",
    "\n",
    "* Whatever data you pull may not be yours to host, so if you push it to github you take a legal risk in so doing\n",
    "* Git pulls can be painfully slow if there is a lot of data that we are pushing and pulling to github unneccesarily\n",
    "\n",
    "It would be a good practice to ensure that whatever external text data you pull stays on your VM only and doens't get into github. I recommend making a `Data` directory, and also running all your wgets within the notebook. That way, if somebody wants to reproduce your work, they can go get the data themselves and we don't have to host it for them. "
   ]
  },
  {
   "cell_type": "markdown",
   "metadata": {},
   "source": [
    "#### RCV1\n",
    "http://www.ai.mit.edu/projects/jmlr/papers/volume5/lewis04a/lyrl2004_rcv1v2_README.htm"
   ]
  },
  {
   "cell_type": "code",
   "execution_count": null,
   "metadata": {
    "collapsed": true
   },
   "outputs": [],
   "source": []
  },
  {
   "cell_type": "markdown",
   "metadata": {},
   "source": [
    "#### Hathi Trust\n",
    "\n",
    "https://sharc.hathitrust.org/genre"
   ]
  },
  {
   "cell_type": "code",
   "execution_count": null,
   "metadata": {
    "collapsed": true
   },
   "outputs": [],
   "source": []
  },
  {
   "cell_type": "markdown",
   "metadata": {},
   "source": [
    "#### Project Gutenberg"
   ]
  },
  {
   "cell_type": "code",
   "execution_count": 6,
   "metadata": {
    "collapsed": false
   },
   "outputs": [
    {
     "name": "stdout",
     "output_type": "stream",
     "text": [
      "Starting job # 0 in a separate thread.\n"
     ]
    }
   ],
   "source": [
    "%%bash --bg\n",
    "cd ~/Data\n",
    "wget --output-document=book.txt http://www.gutenberg.org/cache/epub/4300/pg4300.txt"
   ]
  },
  {
   "cell_type": "markdown",
   "metadata": {
    "collapsed": true
   },
   "source": [
    "#### CrowdFlower\n",
    "\n",
    "http://www.crowdflower.com/data-for-everyone"
   ]
  },
  {
   "cell_type": "code",
   "execution_count": null,
   "metadata": {
    "collapsed": true
   },
   "outputs": [],
   "source": []
  },
  {
   "cell_type": "markdown",
   "metadata": {},
   "source": [
    "#### Newspaper\n",
    "\n",
    "https://github.com/codelucas/newspaper"
   ]
  },
  {
   "cell_type": "code",
   "execution_count": null,
   "metadata": {
    "collapsed": true
   },
   "outputs": [],
   "source": []
  }
 ],
 "metadata": {
  "kernelspec": {
   "display_name": "Python 3",
   "language": "python",
   "name": "python3"
  },
  "language_info": {
   "codemirror_mode": {
    "name": "ipython",
    "version": 3
   },
   "file_extension": ".py",
   "mimetype": "text/x-python",
   "name": "python",
   "nbconvert_exporter": "python",
   "pygments_lexer": "ipython3",
   "version": "3.4.3"
  }
 },
 "nbformat": 4,
 "nbformat_minor": 0
}
