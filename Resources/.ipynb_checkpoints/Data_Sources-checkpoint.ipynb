{
 "cells": [
  {
   "cell_type": "markdown",
   "metadata": {},
   "source": [
    "# Other Data Sources\n",
    "\n",
    "First, a note about pulling data into Nebula. You may find yourself running your notebooks inside of your local instance of the Text Analytics repository. If you run a command like `wget`, it will by default deposit the downloaded material in the same directory in which you are running the notebook. Please be careful of the following:\n",
    "\n",
    "* Whatever data you pull may not be yours to host, so if you push it to github you take a legal risk in doing so\n",
    "* Git pulls can be painfully slow if there is a lot of data that we are pushing and pulling to github unneccesarily\n",
    "\n",
    "It would be a good practice to ensure that whatever external text data you pull stays on your VM only and doens't get into github. I recommend making a `Data` directory, and also running all your wgets within the notebook. That way, if somebody wants to reproduce your work, they can go get the data themselves and we don't have to host it for them. \n",
    "\n",
    "**tl;dr**...Don't push the data you download to github!"
   ]
  },
  {
   "cell_type": "markdown",
   "metadata": {},
   "source": [
    "## Project Gutenberg\n",
    "\n",
    "You can get urls from which to download texts here: http://www.gutenberg.org/"
   ]
  },
  {
   "cell_type": "code",
   "execution_count": null,
   "metadata": {
    "collapsed": true
   },
   "outputs": [],
   "source": [
    "%%bash --bg\n",
    "cd ~/Data\n",
    "wget --output-document=book.txt http://www.gutenberg.org/cache/epub/4300/pg4300.txt"
   ]
  },
  {
   "cell_type": "code",
   "execution_count": 25,
   "metadata": {
    "collapsed": false
   },
   "outputs": [
    {
     "name": "stdout",
     "output_type": "stream",
     "text": [
      "The Project Gutenberg EBook of Ulysses, by James Joyce\n",
      "\n",
      "This eBook is for the use of anyone anywhere at no cost and with\n",
      "almost no restrictions whatsoever.  You may copy it, give it away or\n",
      "re-use it under the terms of the Project Gutenberg License included\n",
      "with this eBook or online at www.gutenberg.org\n",
      "\n",
      "\n",
      "Title: Ulysses\n",
      "\n",
      "Author: James Joyce\n",
      "\n",
      "Posting Date: August 1, 2008 [EBook #4300]\n",
      "Release Date: July, 2003\n",
      "[Last updated: November 17, 2011]\n",
      "\n",
      "Language: English\n",
      "\n",
      "\n",
      "*** START OF THIS PROJECT GUTENB\n"
     ]
    }
   ],
   "source": [
    "with open(\"/home/ubuntu/Data/book.txt\", 'r') as f:\n",
    "    book = f.read()\n",
    "\n",
    "print(book[1:500]) # this is the first 500 characters of Ulysses"
   ]
  },
  {
   "cell_type": "markdown",
   "metadata": {},
   "source": [
    "## CrowdFlower\n",
    "\n",
    "http://www.crowdflower.com/data-for-everyone\n",
    "\n",
    "Here is an example dataset:\n",
    "\n",
    ">Contributors were presented a football scenario and asked to note what the best coaching decision would be. An scenario: \"It is third down and 3. The ball is on your opponent's 20 yard line. There are five seconds left. You are down by 4.\" The decisions presented were punt, pass, run, kick a field goal, kneel down, or don't know. There are thousands of such scenarios in this job.\n",
    "\n",
    "Source: crowdflower.com\n",
    "\n",
    "This is a really cool dataset with lots of hand-labeled text data. One major problem in text mining is that to classify texts you often need \"ground truth\" data or text documents with known labels. But if the labels were easy to obtain, there wouldn't be much of a point in classifying them!"
   ]
  },
  {
   "cell_type": "code",
   "execution_count": 28,
   "metadata": {
    "collapsed": false
   },
   "outputs": [
    {
     "name": "stdout",
     "output_type": "stream",
     "text": [
      "Starting job # 3 in a separate thread.\n"
     ]
    }
   ],
   "source": [
    "%%bash --bg\n",
    "cd ~/Data\n",
    "wget --output-document=football.csv \\\n",
    "http://cdn2.hubspot.net/hubfs/346378/DFE_CSVs/Football-Scenarios-DFE-832307.csv?t=1456518774936"
   ]
  },
  {
   "cell_type": "code",
   "execution_count": 31,
   "metadata": {
    "collapsed": false
   },
   "outputs": [],
   "source": [
    "import pandas as pd"
   ]
  },
  {
   "cell_type": "code",
   "execution_count": 36,
   "metadata": {
    "collapsed": false
   },
   "outputs": [
    {
     "data": {
      "text/html": [
       "<div>\n",
       "<table border=\"1\" class=\"dataframe\">\n",
       "  <thead>\n",
       "    <tr style=\"text-align: right;\">\n",
       "      <th></th>\n",
       "      <th>_golden</th>\n",
       "      <th>_unit_state</th>\n",
       "      <th>_trusted_judgments</th>\n",
       "      <th>_last_judgment_at</th>\n",
       "      <th>antecedent</th>\n",
       "      <th>antecedent:confidence</th>\n",
       "      <th>orig_antecedent</th>\n",
       "      <th>antecedent_gold</th>\n",
       "      <th>option1</th>\n",
       "      <th>option2</th>\n",
       "      <th>option3</th>\n",
       "      <th>option4</th>\n",
       "      <th>option5</th>\n",
       "    </tr>\n",
       "    <tr>\n",
       "      <th>_unit_id</th>\n",
       "      <th></th>\n",
       "      <th></th>\n",
       "      <th></th>\n",
       "      <th></th>\n",
       "      <th></th>\n",
       "      <th></th>\n",
       "      <th></th>\n",
       "      <th></th>\n",
       "      <th></th>\n",
       "      <th></th>\n",
       "      <th></th>\n",
       "      <th></th>\n",
       "      <th></th>\n",
       "    </tr>\n",
       "  </thead>\n",
       "  <tbody>\n",
       "    <tr>\n",
       "      <th>831005673</th>\n",
       "      <td>False</td>\n",
       "      <td>finalized</td>\n",
       "      <td>5</td>\n",
       "      <td>11/20/2015 20:20:56</td>\n",
       "      <td>kick a field goal</td>\n",
       "      <td>0.8092</td>\n",
       "      <td>It is first down and 10. The ball is on your o...</td>\n",
       "      <td>NaN</td>\n",
       "      <td>punt</td>\n",
       "      <td>kick a field goal</td>\n",
       "      <td>run</td>\n",
       "      <td>pass</td>\n",
       "      <td>kneel down</td>\n",
       "    </tr>\n",
       "    <tr>\n",
       "      <th>831005674</th>\n",
       "      <td>False</td>\n",
       "      <td>finalized</td>\n",
       "      <td>5</td>\n",
       "      <td>11/18/2015 21:59:00</td>\n",
       "      <td>kick a field goal</td>\n",
       "      <td>1.0000</td>\n",
       "      <td>It is second down and inches. The ball is on y...</td>\n",
       "      <td>NaN</td>\n",
       "      <td>punt</td>\n",
       "      <td>kick a field goal</td>\n",
       "      <td>run</td>\n",
       "      <td>pass</td>\n",
       "      <td>kneel down</td>\n",
       "    </tr>\n",
       "    <tr>\n",
       "      <th>831005675</th>\n",
       "      <td>False</td>\n",
       "      <td>finalized</td>\n",
       "      <td>5</td>\n",
       "      <td>11/20/2015 22:43:15</td>\n",
       "      <td>kick a field goal</td>\n",
       "      <td>0.6211</td>\n",
       "      <td>It is second down and inches. The ball is on y...</td>\n",
       "      <td>NaN</td>\n",
       "      <td>punt</td>\n",
       "      <td>kick a field goal</td>\n",
       "      <td>run</td>\n",
       "      <td>pass</td>\n",
       "      <td>kneel down</td>\n",
       "    </tr>\n",
       "    <tr>\n",
       "      <th>831005676</th>\n",
       "      <td>False</td>\n",
       "      <td>finalized</td>\n",
       "      <td>5</td>\n",
       "      <td>11/19/2015 07:41:33</td>\n",
       "      <td>kick a field goal</td>\n",
       "      <td>0.8073</td>\n",
       "      <td>It is second down and inches. The ball is on y...</td>\n",
       "      <td>NaN</td>\n",
       "      <td>punt</td>\n",
       "      <td>kick a field goal</td>\n",
       "      <td>run</td>\n",
       "      <td>pass</td>\n",
       "      <td>kneel down</td>\n",
       "    </tr>\n",
       "    <tr>\n",
       "      <th>831005677</th>\n",
       "      <td>False</td>\n",
       "      <td>finalized</td>\n",
       "      <td>5</td>\n",
       "      <td>11/21/2015 08:01:50</td>\n",
       "      <td>kick a field goal</td>\n",
       "      <td>1.0000</td>\n",
       "      <td>It is second down and inches. The ball is on y...</td>\n",
       "      <td>NaN</td>\n",
       "      <td>punt</td>\n",
       "      <td>kick a field goal</td>\n",
       "      <td>run</td>\n",
       "      <td>pass</td>\n",
       "      <td>kneel down</td>\n",
       "    </tr>\n",
       "  </tbody>\n",
       "</table>\n",
       "</div>"
      ],
      "text/plain": [
       "          _golden _unit_state  _trusted_judgments    _last_judgment_at  \\\n",
       "_unit_id                                                                 \n",
       "831005673   False   finalized                   5  11/20/2015 20:20:56   \n",
       "831005674   False   finalized                   5  11/18/2015 21:59:00   \n",
       "831005675   False   finalized                   5  11/20/2015 22:43:15   \n",
       "831005676   False   finalized                   5  11/19/2015 07:41:33   \n",
       "831005677   False   finalized                   5  11/21/2015 08:01:50   \n",
       "\n",
       "                  antecedent  antecedent:confidence  \\\n",
       "_unit_id                                              \n",
       "831005673  kick a field goal                 0.8092   \n",
       "831005674  kick a field goal                 1.0000   \n",
       "831005675  kick a field goal                 0.6211   \n",
       "831005676  kick a field goal                 0.8073   \n",
       "831005677  kick a field goal                 1.0000   \n",
       "\n",
       "                                             orig_antecedent antecedent_gold  \\\n",
       "_unit_id                                                                       \n",
       "831005673  It is first down and 10. The ball is on your o...             NaN   \n",
       "831005674  It is second down and inches. The ball is on y...             NaN   \n",
       "831005675  It is second down and inches. The ball is on y...             NaN   \n",
       "831005676  It is second down and inches. The ball is on y...             NaN   \n",
       "831005677  It is second down and inches. The ball is on y...             NaN   \n",
       "\n",
       "          option1             option2 option3 option4      option5  \n",
       "_unit_id                                                            \n",
       "831005673    punt   kick a field goal     run    pass   kneel down  \n",
       "831005674    punt   kick a field goal     run    pass   kneel down  \n",
       "831005675    punt   kick a field goal     run    pass   kneel down  \n",
       "831005676    punt   kick a field goal     run    pass   kneel down  \n",
       "831005677    punt   kick a field goal     run    pass   kneel down  "
      ]
     },
     "execution_count": 36,
     "metadata": {},
     "output_type": "execute_result"
    }
   ],
   "source": [
    "football = pd.read_csv('/home/ubuntu/Data/football.csv', index_col=0)\n",
    "football.head()"
   ]
  },
  {
   "cell_type": "markdown",
   "metadata": {},
   "source": [
    "#### Newspaper\n",
    "\n",
    "https://github.com/codelucas/newspaper\n",
    "\n",
    "This is a great tool if you have the URLs of articles and want to parse them efficiently. See the above for code examples."
   ]
  },
  {
   "cell_type": "markdown",
   "metadata": {},
   "source": [
    "#### RCV1\n",
    "http://www.ai.mit.edu/projects/jmlr/papers/volume5/lewis04a/lyrl2004_rcv1v2_README.htm\n",
    "\n",
    "Here you may obtain several files that have been preprocessed for text classification. This might be useful for learning to work with data that others have already processed. It may seem counterintuitive, but it is usually more difficult to work with preprocessed data than the raw data. This is a valuable skill, however, since entities often release this preprocessed data instead of raw data to prevent the reconstruction of the original documents. Often researchers have been granted permission to use but not redistribute these documents, but they still want to release their data to make their work reputable and reproducible. "
   ]
  },
  {
   "cell_type": "markdown",
   "metadata": {},
   "source": [
    "#### Hathi Trust\n",
    "\n",
    "https://sharc.hathitrust.org/genre\n",
    "\n",
    "**This doesn't seem to be working at the moment**"
   ]
  },
  {
   "cell_type": "code",
   "execution_count": 6,
   "metadata": {
    "collapsed": false
   },
   "outputs": [
    {
     "name": "stderr",
     "output_type": "stream",
     "text": [
      "--2016-03-02 17:38:44--  http://data.sharc.hathitrust.org/genre/fiction_1920-1922.tar.gz\n",
      "Resolving data.sharc.hathitrust.org (data.sharc.hathitrust.org)... 192.17.22.249\n",
      "Connecting to data.sharc.hathitrust.org (data.sharc.hathitrust.org)|192.17.22.249|:80... connected.\n",
      "HTTP request sent, awaiting response... 404 Not Found\n",
      "2016-03-02 17:38:45 ERROR 404: Not Found.\n",
      "\n",
      "tar (child): fiction_1920-1922.tar.gz: Cannot open: No such file or directory\n",
      "tar (child): Error is not recoverable: exiting now\n",
      "tar: Child returned status 2\n",
      "tar: Error is not recoverable: exiting now\n"
     ]
    }
   ],
   "source": [
    "%%bash\n",
    "cd ~/Data\n",
    "wget http://data.sharc.hathitrust.org/genre/fiction_1920-1922.tar.gz\n",
    "tar -zxvf fiction_1920-1922.tar.gz"
   ]
  },
  {
   "cell_type": "code",
   "execution_count": null,
   "metadata": {
    "collapsed": true
   },
   "outputs": [],
   "source": []
  }
 ],
 "metadata": {
  "kernelspec": {
   "display_name": "Python 3",
   "language": "python",
   "name": "python3"
  },
  "language_info": {
   "codemirror_mode": {
    "name": "ipython",
    "version": 3
   },
   "file_extension": ".py",
   "mimetype": "text/x-python",
   "name": "python",
   "nbconvert_exporter": "python",
   "pygments_lexer": "ipython3",
   "version": "3.4.3"
  }
 },
 "nbformat": 4,
 "nbformat_minor": 0
}
