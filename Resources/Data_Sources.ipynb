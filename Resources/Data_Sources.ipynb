{
 "cells": [
  {
   "cell_type": "markdown",
   "metadata": {},
   "source": [
    "## Other Data Sources\n",
    "\n",
    "First, a note about pulling data into Nebula. You may find yourself running your notebooks inside of your local instance of the Text Analytics repository. If you run a command like `wget`, it will by default deposit the downloaded material in the same directory in which you are running the notebook. Please be careful of the following:\n",
    "\n",
    "* Whatever data you pull may not be yours to host, so if you push it to github you take a legal risk in so doing\n",
    "* Git pulls can be painfully slow if there is a lot of data that we are pushing and pulling to github unneccesarily\n",
    "\n",
    "It would be a good practice to ensure that whatever external text data you pull stays on your VM only and doens't get into github. I recommend making a `Data` directory, and also running all your wgets within the notebook. That way, if somebody wants to reproduce your work, they can go get the data themselves and we don't have to host it for them. "
   ]
  },
  {
   "cell_type": "markdown",
   "metadata": {},
   "source": [
    "#### RCV1\n",
    "http://www.ai.mit.edu/projects/jmlr/papers/volume5/lewis04a/lyrl2004_rcv1v2_README.htm"
   ]
  },
  {
   "cell_type": "markdown",
   "metadata": {},
   "source": [
    "#### Hathi Trust\n",
    "\n",
    "https://sharc.hathitrust.org/genre"
   ]
  },
  {
   "cell_type": "markdown",
   "metadata": {},
   "source": [
    "#### Project Gutenberg"
   ]
  },
  {
   "cell_type": "code",
   "execution_count": null,
   "metadata": {
    "collapsed": true
   },
   "outputs": [],
   "source": [
    "%%bash --bg\n",
    "cd ~/Data\n",
    "wget --output-document=book.txt http://www.gutenberg.org/cache/epub/4300/pg4300.txt"
   ]
  },
  {
   "cell_type": "markdown",
   "metadata": {},
   "source": [
    "#### CrowdFlower\n",
    "\n",
    "http://www.crowdflower.com/data-for-everyone"
   ]
  },
  {
   "cell_type": "markdown",
   "metadata": {},
   "source": [
    "#### Newspaper\n",
    "\n",
    "https://github.com/codelucas/newspaper"
   ]
  },
  {
   "cell_type": "code",
   "execution_count": null,
   "metadata": {
    "collapsed": true
   },
   "outputs": [],
   "source": []
  }
 ],
 "metadata": {
  "kernelspec": {
   "display_name": "Python 3",
   "language": "python",
   "name": "python3"
  },
  "language_info": {
   "codemirror_mode": {
    "name": "ipython",
    "version": 3
   },
   "file_extension": ".py",
   "mimetype": "text/x-python",
   "name": "python",
   "nbconvert_exporter": "python",
   "pygments_lexer": "ipython3",
   "version": "3.4.3"
  }
 },
 "nbformat": 4,
 "nbformat_minor": 0
}
