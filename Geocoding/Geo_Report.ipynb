{
 "cells": [
  {
   "cell_type": "code",
   "execution_count": 1,
   "metadata": {
    "collapsed": true
   },
   "outputs": [],
   "source": [
    "import json\n",
    "import requests\n",
    "import pandas as pd\n",
    "from IPython.display import display"
   ]
  },
  {
   "cell_type": "markdown",
   "metadata": {},
   "source": [
    "Read in unigrams and NYT API key."
   ]
  },
  {
   "cell_type": "code",
   "execution_count": 2,
   "metadata": {
    "collapsed": true
   },
   "outputs": [],
   "source": [
    "unigrams=[]\n",
    "for i in range(6):\n",
    "    with open(\"/home/cline/NYT_SPEED/Unigrams/{0}.json\".format(i)) as f:\n",
    "        unis = json.load(f)\n",
    "    unigrams.extend(unis)"
   ]
  },
  {
   "cell_type": "code",
   "execution_count": 3,
   "metadata": {
    "collapsed": true
   },
   "outputs": [],
   "source": [
    "with open(\"NYT.key\") as key:\n",
    "    for line in key:\n",
    "        NYT_KEY = line"
   ]
  },
  {
   "cell_type": "markdown",
   "metadata": {},
   "source": [
    "The usual functions to get solr and NYT data"
   ]
  },
  {
   "cell_type": "code",
   "execution_count": 4,
   "metadata": {
    "collapsed": true
   },
   "outputs": [],
   "source": [
    "def get_solr_data(uni_id):\n",
    "    \n",
    "    ## uni id is in [0, 1, ..., 53580]\n",
    "\n",
    "    aid = unigrams[uni_id]['aid']\n",
    "    query = \"http://localhost:8983/solr/derived/select?q=aid%3A{0}&wt=json&indent=true\".format(aid)\n",
    "    r = requests.get(query)\n",
    "    \n",
    "    return(r)"
   ]
  },
  {
   "cell_type": "code",
   "execution_count": 5,
   "metadata": {
    "collapsed": true
   },
   "outputs": [],
   "source": [
    "def get_NYT_data(r, NYT_KEY):\n",
    "    ttl = r.json()['response']['docs'][0]['title']\n",
    "    date = r.json()['response']['docs'][0]['publication_date'][:10]\n",
    "    nytq = 'http://api.nytimes.com/svc/search/v2/articlesearch.json?\\\n",
    "fq=headline:(\"{0}\") AND pub_date:{1}&api-key={2}'.format(ttl,date, NYT_KEY)\n",
    "    nyt = requests.get(nytq)\n",
    "    return(nyt)"
   ]
  },
  {
   "cell_type": "markdown",
   "metadata": {},
   "source": [
    "This function will get all the relevant geolocation data from the Solr index and NYT api"
   ]
  },
  {
   "cell_type": "code",
   "execution_count": 6,
   "metadata": {
    "collapsed": false
   },
   "outputs": [],
   "source": [
    "def get_geo_data(uni_id, NYT_KEY):\n",
    "    \n",
    "    # make dataframe from Solr data\n",
    "    keys = ['geolocation', 'geolocation_locations', 'geolocation_probabilities']\n",
    "\n",
    "    r = get_solr_data(uni_id)\n",
    "    js = r.json()['response']['docs'][0]\n",
    "    try:\n",
    "        df = pd.DataFrame([js[key] for key in keys]).T\n",
    "        df.columns = keys\n",
    "        df\n",
    "    except KeyError:\n",
    "        df = pd.DataFrame(columns=keys)\n",
    "    \n",
    "    # get extracted locs\n",
    "    try:\n",
    "        extracted = js['extracted_locations']\n",
    "    except KeyError:\n",
    "        extracted=[]\n",
    "    \n",
    "    # get nyt location info\n",
    "    nyt_meta = get_NYT_data(r, NYT_KEY).json()['response']['docs'][0]\n",
    "    nyt_glocs = [x['value'] for x in nyt_meta['keywords'] if x['name'] == 'glocations']\n",
    "    \n",
    "    snp = nyt_meta['snippet']\n",
    "    \n",
    "    return(df, extracted, nyt_glocs, snp)\n",
    "    "
   ]
  },
  {
   "cell_type": "markdown",
   "metadata": {},
   "source": [
    "Run the cells below to print the extracted location information for a given article"
   ]
  },
  {
   "cell_type": "code",
   "execution_count": 7,
   "metadata": {
    "collapsed": false
   },
   "outputs": [],
   "source": [
    "def get_geo_report(uni_id, NYT_KEY):\n",
    "\n",
    "    df, x, n, s = get_geo_data(uni_id, NYT_KEY)\n",
    "\n",
    "    print('Geolocations from Solr')\n",
    "    print(40*\"-\")\n",
    "    display(df.sort_values('geolocation_probabilities', ascending=False).iloc[0:5,:])\n",
    "    print('\\n')\n",
    "\n",
    "    print('Extracted Locations from Solr')\n",
    "    print(40*\"-\")\n",
    "    print(x)\n",
    "    print('\\n')\n",
    "\n",
    "    print('Geolocations from NYT API')\n",
    "    print(40*\"-\")\n",
    "    print(n)\n",
    "    print('\\n')\n",
    "    \n",
    "    print('Snippet')\n",
    "    print(40*\"-\")\n",
    "    print(s)"
   ]
  },
  {
   "cell_type": "code",
   "execution_count": null,
   "metadata": {
    "collapsed": false
   },
   "outputs": [],
   "source": [
    "get_geo_report(9, NYT_KEY)"
   ]
  },
  {
   "cell_type": "code",
   "execution_count": null,
   "metadata": {
    "collapsed": true
   },
   "outputs": [],
   "source": []
  }
 ],
 "metadata": {
  "kernelspec": {
   "display_name": "Python 3",
   "language": "python",
   "name": "python3"
  },
  "language_info": {
   "codemirror_mode": {
    "name": "ipython",
    "version": 3
   },
   "file_extension": ".py",
   "mimetype": "text/x-python",
   "name": "python",
   "nbconvert_exporter": "python",
   "pygments_lexer": "ipython3",
   "version": "3.4.3"
  }
 },
 "nbformat": 4,
 "nbformat_minor": 0
}
