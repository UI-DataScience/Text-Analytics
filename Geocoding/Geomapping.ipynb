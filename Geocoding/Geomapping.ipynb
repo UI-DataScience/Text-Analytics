{
 "cells": [
  {
   "cell_type": "code",
   "execution_count": null,
   "metadata": {
    "collapsed": true
   },
   "outputs": [],
   "source": [
    "%matplotlib inline"
   ]
  },
  {
   "cell_type": "code",
   "execution_count": null,
   "metadata": {
    "collapsed": true
   },
   "outputs": [],
   "source": [
    "import sys"
   ]
  },
  {
   "cell_type": "markdown",
   "metadata": {},
   "source": [
    "## Basemap\n",
    "\n",
    "Basemap was installed with the following commands:\n",
    "\n",
    "`wget https://github.com/matplotlib/basemap/archive/v1.0.7rel.tar.gz`\n",
    "\n",
    "`pip install --user v1.0.7rel.tar.gz`\n",
    "\n",
    "Maybe this could be installed with pip3 for Python3, I don't know. For another day."
   ]
  },
  {
   "cell_type": "code",
   "execution_count": null,
   "metadata": {
    "collapsed": true
   },
   "outputs": [],
   "source": [
    "sys.path.insert(0,'/home/mehrman2/.local/lib/python2.7/site-packages/mpl_toolkits')"
   ]
  },
  {
   "cell_type": "code",
   "execution_count": null,
   "metadata": {
    "collapsed": false
   },
   "outputs": [],
   "source": [
    "from mpl_toolkits.basemap import Basemap\n",
    "import matplotlib.pyplot as plt\n",
    "import numpy as np"
   ]
  },
  {
   "cell_type": "markdown",
   "metadata": {},
   "source": [
    "Minimal test plot:"
   ]
  },
  {
   "cell_type": "code",
   "execution_count": null,
   "metadata": {
    "collapsed": false
   },
   "outputs": [],
   "source": [
    "m = Basemap(width=12000000,height=9000000,projection='lcc',\n",
    "            resolution=None,lat_1=45.,lat_2=55,lat_0=50,lon_0=-107.)\n",
    "m.etopo()\n",
    "plt.show()"
   ]
  },
  {
   "cell_type": "markdown",
   "metadata": {},
   "source": [
    "## Mapping Geocodes\n",
    "\n",
    "First, the usual functions..."
   ]
  },
  {
   "cell_type": "code",
   "execution_count": null,
   "metadata": {
    "collapsed": false
   },
   "outputs": [],
   "source": [
    "import json, requests\n",
    "import pandas as pd"
   ]
  },
  {
   "cell_type": "code",
   "execution_count": null,
   "metadata": {
    "collapsed": false
   },
   "outputs": [],
   "source": [
    "unigrams=[]\n",
    "for i in range(6):\n",
    "    with open(\"/home/cline/NYT_SPEED/Unigrams/{0}.json\".format(i)) as f:\n",
    "        unis = json.load(f)\n",
    "    unigrams.extend(unis)\n",
    "\n",
    "with open(\"NYT.key\") as key:\n",
    "    for line in key:\n",
    "        NYT_KEY = line\n",
    "    \n",
    "def get_solr_data(uni_id):\n",
    "\n",
    "    aid = unigrams[uni_id]['aid']\n",
    "    query = \"http://localhost:8983/solr/derived/select?q=aid%3A{0}&wt=json&indent=true\".format(aid)\n",
    "    r = requests.get(query)\n",
    "    \n",
    "    return(r)\n",
    "\n",
    "def get_geo_df(uni_id):\n",
    "    \n",
    "    # make dataframe from Solr data\n",
    "    keys = ['geolocation', 'geolocation_locations', 'geolocation_probabilities']\n",
    "\n",
    "    r = get_solr_data(uni_id)\n",
    "    js = r.json()['response']['docs'][0]\n",
    "    try:\n",
    "        df = pd.DataFrame([js[key] for key in keys]).T\n",
    "        df.columns = keys\n",
    "        df\n",
    "    except KeyError:\n",
    "        df = pd.DataFrame(columns=keys)\n",
    "        \n",
    "    return(df)\n"
   ]
  },
  {
   "cell_type": "markdown",
   "metadata": {},
   "source": [
    "#### Plot One Point\n",
    "\n",
    "Takes an unigram ID and the NYT API key and plots the geolocation from Solr with the highest probability."
   ]
  },
  {
   "cell_type": "code",
   "execution_count": null,
   "metadata": {
    "collapsed": false
   },
   "outputs": [],
   "source": [
    "def plot_one(uni_id):\n",
    "    \n",
    "    df = get_geo_df(uni_id)\n",
    "    \n",
    "    if df.shape[0] < 1:\n",
    "        raise IndexError('Geolocations == 0. Try a different article')\n",
    "        \n",
    "    coords = df.sort_values('geolocation_probabilities', ascending=False).iloc[0,0].split(\",\")\n",
    "\n",
    "    coords = map(float, coords)\n",
    "    \n",
    "    plt.figure(figsize=(12, 9), dpi=80)\n",
    "    \n",
    "    m = Basemap(projection='gall',\n",
    "                llcrnrlon = coords[1] - 15,              # lower-left corner longitude\n",
    "                llcrnrlat = coords[0] - 10,               # lower-left corner latitude\n",
    "                urcrnrlon = coords[1] + 15,               # upper-right corner longitude\n",
    "                urcrnrlat = coords[0] + 10,               # upper-right corner latitude\n",
    "                resolution = 'l',\n",
    "                area_thresh = 100000.0)\n",
    "\n",
    "\n",
    "    m.drawcoastlines()\n",
    "    m.drawcountries()\n",
    "    m.drawstates()\n",
    "    m.fillcontinents(color = 'gainsboro')\n",
    "    m.drawmapboundary(fill_color='steelblue')\n",
    "\n",
    "    x, y = m(coords[1], coords[0]) # IS LON, LAT !!!!\n",
    "\n",
    "    m.plot(x, y, 'ro', markersize=18, alpha=0.7)\n",
    "\n",
    "    plt.show()\n",
    "    \n",
    "    return None"
   ]
  },
  {
   "cell_type": "code",
   "execution_count": null,
   "metadata": {
    "collapsed": false
   },
   "outputs": [],
   "source": [
    "plot_one(0)"
   ]
  },
  {
   "cell_type": "markdown",
   "metadata": {
    "collapsed": true
   },
   "source": [
    "#### Plot Many Points\n",
    "\n",
    "The size of the points is proportional to the confidence of the prediction."
   ]
  },
  {
   "cell_type": "code",
   "execution_count": null,
   "metadata": {
    "collapsed": false
   },
   "outputs": [],
   "source": [
    "def plot_many(uni_id, num_to_plot):\n",
    "    \n",
    "    df = get_geo_df(uni_id)\n",
    "    \n",
    "    if df.shape[0] < num_to_plot:\n",
    "        raise IndexError('Geolocations < number to plot. Try a lower value or a different article')\n",
    "    \n",
    "    df = df.sort_values('geolocation_probabilities', ascending=False).iloc[0:num_to_plot]\n",
    "\n",
    "    s = df['geolocation'].str.split(',').apply(pd.Series, 1)\n",
    "    s.columns = ['lat', 'lon']\n",
    "    s['probs'] = df['geolocation_probabilities']\n",
    "\n",
    "    s = s.apply(lambda x: pd.to_numeric(x, errors='coerce'))\n",
    "\n",
    "    plt.figure(figsize=(16, 12), dpi=80)\n",
    "\n",
    "    m = Basemap(projection='gall',\n",
    "                llcrnrlon = min(s.lon) - 5,              # lower-left corner longitude\n",
    "                llcrnrlat = min(s.lat) - 5,               # lower-left corner latitude\n",
    "                urcrnrlon = max(s.lon) + 5,               # upper-right corner longitude\n",
    "                urcrnrlat = max(s.lat) + 5,               # upper-right corner latitude\n",
    "                resolution = 'l',\n",
    "                area_thresh = 100000.0)\n",
    "\n",
    "\n",
    "    m.drawcoastlines()\n",
    "    m.drawcountries()\n",
    "    m.drawstates()\n",
    "    m.fillcontinents(color = 'gainsboro',zorder=0)\n",
    "    m.drawmapboundary(fill_color='steelblue')\n",
    "\n",
    "    x, y = m(s['lon'].values, s['lat'].values) # IS LON, LAT !!!!\n",
    "\n",
    "\n",
    "    m.scatter(x, y, marker='o', color='r', s=s['probs']*200, alpha=0.8)\n",
    "\n",
    "    plt.show()\n",
    "    \n",
    "    return None"
   ]
  },
  {
   "cell_type": "code",
   "execution_count": null,
   "metadata": {
    "collapsed": false
   },
   "outputs": [],
   "source": [
    "plot_many(5, 6)"
   ]
  }
 ],
 "metadata": {
  "kernelspec": {
   "display_name": "Python 2",
   "language": "python",
   "name": "python2"
  },
  "language_info": {
   "codemirror_mode": {
    "name": "ipython",
    "version": 2
   },
   "file_extension": ".py",
   "mimetype": "text/x-python",
   "name": "python",
   "nbconvert_exporter": "python",
   "pygments_lexer": "ipython2",
   "version": "2.7.6"
  }
 },
 "nbformat": 4,
 "nbformat_minor": 0
}
